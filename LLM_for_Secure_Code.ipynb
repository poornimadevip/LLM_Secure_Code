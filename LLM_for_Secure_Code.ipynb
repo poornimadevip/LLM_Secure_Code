{
  "cells": [
    {
      "cell_type": "markdown",
      "source": [
        "# **LLM for Secure Code**\n",
        "\n",
        "This POC is to check if the LLM models like GPT-3, 3.5 can be used for identifying the potential security vulnerabilities from the code. \n",
        "\n",
        "## **Challenge with current code analyzers**\n",
        "\n",
        "Current code analyzers are\n",
        "1. Language dependent\n",
        "2. Require Human / Vendor dependency for adding new vulnerability checks\n",
        "3. Require multiple code analysis tools to cover all aspects\n",
        "\n",
        "\n",
        "## **POC Approach**\n",
        "\n",
        "![LLM.png](data:image/png;base64,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)\n",
        "\n",
        "1. The approach was to use available open source GPT models from OpenAI, to scan a given GitHub repository. \n",
        "2. The code has few intentional vulnerabilities added in order to check the model performance. \n",
        "3. The same code was scanned by other code scanning tools available\n",
        "4. Vulnerabilities found from both GPT models and Scanning tools were compared to determine performance of model output\n",
        "\n",
        "**GPT Models used** - GPT-3 (text-davinci-003), GPT-3.5 (gpt-3.5-turbo)\n",
        "\n",
        "**Code Scanning Tools used** - CodeQL, Snyk Security\n",
        "\n",
        "\n"
      ],
      "metadata": {
        "id": "W7Y4yXsg8kgz"
      }
    },
    {
      "cell_type": "code",
      "execution_count": 1,
      "metadata": {
        "colab": {
          "base_uri": "https://localhost:8080/"
        },
        "id": "px2Xb-fux0BP",
        "outputId": "7f7ccb74-2feb-48b9-a3c3-3e2105396cae"
      },
      "outputs": [
        {
          "output_type": "stream",
          "name": "stdout",
          "text": [
            "\u001b[K\u001b[?25hnpx: installed 1 in 3.166s\n",
            "\u001b[36m> cloned \u001b[1mpoornimadevip/Vulnerable-Code-Snippets\u001b[22m#\u001b[1mHEAD\u001b[22m to code\u001b[39m\n",
            "Looking in indexes: https://pypi.org/simple, https://us-python.pkg.dev/colab-wheels/public/simple/\n",
            "Collecting openai\n",
            "  Downloading openai-0.27.4-py3-none-any.whl (70 kB)\n",
            "\u001b[2K     \u001b[90m━━━━━━━━━━━━━━━━━━━━━━━━━━━━━━━━━━━━━━━━\u001b[0m \u001b[32m70.3/70.3 KB\u001b[0m \u001b[31m2.6 MB/s\u001b[0m eta \u001b[36m0:00:00\u001b[0m\n",
            "\u001b[?25hRequirement already satisfied: tqdm in /usr/local/lib/python3.9/dist-packages (from openai) (4.65.0)\n",
            "Collecting aiohttp\n",
            "  Downloading aiohttp-3.8.4-cp39-cp39-manylinux_2_17_x86_64.manylinux2014_x86_64.whl (1.0 MB)\n",
            "\u001b[2K     \u001b[90m━━━━━━━━━━━━━━━━━━━━━━━━━━━━━━━━━━━━━━━━\u001b[0m \u001b[32m1.0/1.0 MB\u001b[0m \u001b[31m9.9 MB/s\u001b[0m eta \u001b[36m0:00:00\u001b[0m\n",
            "\u001b[?25hRequirement already satisfied: requests>=2.20 in /usr/local/lib/python3.9/dist-packages (from openai) (2.27.1)\n",
            "Requirement already satisfied: charset-normalizer~=2.0.0 in /usr/local/lib/python3.9/dist-packages (from requests>=2.20->openai) (2.0.12)\n",
            "Requirement already satisfied: idna<4,>=2.5 in /usr/local/lib/python3.9/dist-packages (from requests>=2.20->openai) (3.4)\n",
            "Requirement already satisfied: certifi>=2017.4.17 in /usr/local/lib/python3.9/dist-packages (from requests>=2.20->openai) (2022.12.7)\n",
            "Requirement already satisfied: urllib3<1.27,>=1.21.1 in /usr/local/lib/python3.9/dist-packages (from requests>=2.20->openai) (1.26.15)\n",
            "Requirement already satisfied: attrs>=17.3.0 in /usr/local/lib/python3.9/dist-packages (from aiohttp->openai) (22.2.0)\n",
            "Collecting aiosignal>=1.1.2\n",
            "  Downloading aiosignal-1.3.1-py3-none-any.whl (7.6 kB)\n",
            "Collecting async-timeout<5.0,>=4.0.0a3\n",
            "  Downloading async_timeout-4.0.2-py3-none-any.whl (5.8 kB)\n",
            "Collecting multidict<7.0,>=4.5\n",
            "  Downloading multidict-6.0.4-cp39-cp39-manylinux_2_17_x86_64.manylinux2014_x86_64.whl (114 kB)\n",
            "\u001b[2K     \u001b[90m━━━━━━━━━━━━━━━━━━━━━━━━━━━━━━━━━━━━━━━\u001b[0m \u001b[32m114.2/114.2 KB\u001b[0m \u001b[31m1.4 MB/s\u001b[0m eta \u001b[36m0:00:00\u001b[0m\n",
            "\u001b[?25hCollecting yarl<2.0,>=1.0\n",
            "  Downloading yarl-1.8.2-cp39-cp39-manylinux_2_17_x86_64.manylinux2014_x86_64.whl (264 kB)\n",
            "\u001b[2K     \u001b[90m━━━━━━━━━━━━━━━━━━━━━━━━━━━━━━━━━━━━━━\u001b[0m \u001b[32m264.6/264.6 KB\u001b[0m \u001b[31m10.5 MB/s\u001b[0m eta \u001b[36m0:00:00\u001b[0m\n",
            "\u001b[?25hCollecting frozenlist>=1.1.1\n",
            "  Downloading frozenlist-1.3.3-cp39-cp39-manylinux_2_5_x86_64.manylinux1_x86_64.manylinux_2_17_x86_64.manylinux2014_x86_64.whl (158 kB)\n",
            "\u001b[2K     \u001b[90m━━━━━━━━━━━━━━━━━━━━━━━━━━━━━━━━━━━━━━━\u001b[0m \u001b[32m158.8/158.8 KB\u001b[0m \u001b[31m3.6 MB/s\u001b[0m eta \u001b[36m0:00:00\u001b[0m\n",
            "\u001b[?25hInstalling collected packages: multidict, frozenlist, async-timeout, yarl, aiosignal, aiohttp, openai\n",
            "Successfully installed aiohttp-3.8.4 aiosignal-1.3.1 async-timeout-4.0.2 frozenlist-1.3.3 multidict-6.0.4 openai-0.27.4 yarl-1.8.2\n",
            "Looking in indexes: https://pypi.org/simple, https://us-python.pkg.dev/colab-wheels/public/simple/\n",
            "Collecting tiktoken\n",
            "  Downloading tiktoken-0.3.3-cp39-cp39-manylinux_2_17_x86_64.manylinux2014_x86_64.whl (1.7 MB)\n",
            "\u001b[2K     \u001b[90m━━━━━━━━━━━━━━━━━━━━━━━━━━━━━━━━━━━━━━━━\u001b[0m \u001b[32m1.7/1.7 MB\u001b[0m \u001b[31m29.8 MB/s\u001b[0m eta \u001b[36m0:00:00\u001b[0m\n",
            "\u001b[?25hRequirement already satisfied: regex>=2022.1.18 in /usr/local/lib/python3.9/dist-packages (from tiktoken) (2022.10.31)\n",
            "Requirement already satisfied: requests>=2.26.0 in /usr/local/lib/python3.9/dist-packages (from tiktoken) (2.27.1)\n",
            "Requirement already satisfied: urllib3<1.27,>=1.21.1 in /usr/local/lib/python3.9/dist-packages (from requests>=2.26.0->tiktoken) (1.26.15)\n",
            "Requirement already satisfied: charset-normalizer~=2.0.0 in /usr/local/lib/python3.9/dist-packages (from requests>=2.26.0->tiktoken) (2.0.12)\n",
            "Requirement already satisfied: certifi>=2017.4.17 in /usr/local/lib/python3.9/dist-packages (from requests>=2.26.0->tiktoken) (2022.12.7)\n",
            "Requirement already satisfied: idna<4,>=2.5 in /usr/local/lib/python3.9/dist-packages (from requests>=2.26.0->tiktoken) (3.4)\n",
            "Installing collected packages: tiktoken\n",
            "Successfully installed tiktoken-0.3.3\n"
          ]
        },
        {
          "output_type": "stream",
          "name": "stderr",
          "text": [
            "[nltk_data] Downloading package punkt to /root/nltk_data...\n",
            "[nltk_data]   Unzipping tokenizers/punkt.zip.\n"
          ]
        }
      ],
      "source": [
        "# initialization steps\n",
        "!npx degit https://github.com/poornimadevip/Vulnerable-Code-Snippets code -f\n",
        "!pip install openai\n",
        "!pip install tiktoken\n",
        "\n",
        "import os\n",
        "import pandas as pd\n",
        "import openai\n",
        "import tiktoken\n",
        "import numpy as np\n",
        "import platform\n",
        "import re\n",
        "import nltk\n",
        "import time\n",
        "nltk.download('punkt')\n",
        "from nltk.tokenize import word_tokenize"
      ]
    },
    {
      "cell_type": "code",
      "execution_count": 2,
      "metadata": {
        "id": "6J4WPXNPmTZw"
      },
      "outputs": [],
      "source": [
        "valid_file_extension = ['.py','.php', '.go', '.js', '.rb', '.ts', '.c', '.cs', '.html', '.java', '.asp', '.cpp','.vb']\n",
        "def load_files(dir):                                                                                                  \n",
        "    df = pd.DataFrame()  \n",
        "    name, content, extension = [], [], []                                                                                                     \n",
        "    subdirs = [x[0] for x in os.walk(dir)]                                                                            \n",
        "    for subdir in subdirs:                                                                                            \n",
        "        files = os.walk(subdir).__next__()[2]                                                                             \n",
        "        if (len(files) > 0):                                                                                          \n",
        "            for file in files:        \n",
        "                file_name = os.path.join(subdir, file)\n",
        "                _, ext = os.path.splitext(file_name)\n",
        "                if ext in valid_file_extension:\n",
        "                    name.append(file_name)\n",
        "                    extension.append(ext)\n",
        "                    with open(file_name, \"r\") as target_file:\n",
        "                        content.append(target_file.read())\n",
        "                    \n",
        "    df['file_name'] = name\n",
        "    df['ext'] = extension\n",
        "    df['code'] = content; \n",
        "    df['tokens'] = df['code'].str.len()                                                                   \n",
        "    return df\n",
        "\n",
        "def get_files_list(dir):\n",
        "    list = []                                                                                                  \n",
        "    subdirs = [x[0] for x in os.walk(dir)]                                                                            \n",
        "    for subdir in subdirs:                                                                                            \n",
        "        files = os.walk(subdir).__next__()[2]                                                                             \n",
        "        if (len(files) > 0):                                                                                          \n",
        "            for file in files:        \n",
        "                file_name = os.path.join(subdir, file)\n",
        "                _, ext = os.path.splitext(file_name)\n",
        "                if ext in valid_file_extension:\n",
        "                    list.append(file_name)                                                                   \n",
        "    return list\n",
        "  \n",
        "def break_up_text(tokens, chunk_size, overlap_size):\n",
        "    if len(tokens) <= chunk_size:\n",
        "        yield tokens\n",
        "    else:\n",
        "        chunk = tokens[:chunk_size]\n",
        "        yield chunk\n",
        "        yield from break_up_text(tokens[chunk_size-overlap_size:], chunk_size, overlap_size)\n",
        "\n",
        "\n",
        "def break_up_text_to_chunks(text, chunk_size=700, overlap_size=20):\n",
        "    tokens = word_tokenize(text)\n",
        "    return list(break_up_text(tokens, chunk_size, overlap_size))\n",
        "\n",
        "def convert_to_detokenized_text(tokenized_text):\n",
        "    detokenized_text = \" \".join(tokenized_text)\n",
        "    detokenized_text = detokenized_text.replace(\" 's\", \"'s\")\n",
        "    return detokenized_text\n",
        "\n",
        "def get_file_content(file_name):\n",
        "  with open(file_name, \"r\") as target_file:\n",
        "    file_content = target_file.read()\n",
        "  return file_content\n",
        "\n",
        "def get_predictions(file_name):\n",
        "  file_content = get_file_content('code/'+file_name)\n",
        "  print('file... '+file_name)\n",
        "  new_file_name = file_name.replace('/','_')\n",
        "  f = open(\"findings/\"+new_file_name,\"w+\")\n",
        "  f.write('Findings from GPT 3 Davinci...\\n')\n",
        "  print('Findings from GPT 3 Davinci...')\n",
        "  f.write(GPT_Detection_3(baseprompt + file_content))\n",
        "  f.write('\\n********\\n')\n",
        "  f.write('Findings from GPT 3.5 Turbo ...\\n')\n",
        "  print('Findings from GPT 3.5 Turbo ...')\n",
        "  f.write(GPT_Detection_3_5(baseprompt + file_content))\n",
        "  f.write('\\n********\\n')\n",
        "  f.write('Findings from GPT 3.5 Turbo with improved prompt ...\\n')\n",
        "  print('Findings from GPT 3.5 Turbo with improved prompt ...')\n",
        "  f.write(GPT_Detection_3_5_withImprovedPrompt(baseprompt + file_content))\n",
        "  f.write('\\n********\\n')\n",
        "  f.write('Findings from GPT 3.5 Turbo with improved prompt and chunked code ...\\n')\n",
        "  print('Findings from GPT 3.5 Turbo with improved prompt and chunked code ...')\n",
        "  responses = GPT_Detection_3_5_withTokens(file_content)\n",
        "  for response in responses:\n",
        "      f.write(response)\n",
        "      f.write('\\n')\n",
        "  f.write('\\n********\\n')\n",
        "  f.close\n",
        "\n",
        "def get_predictions_updated(file_name):\n",
        "  file_content = get_file_content(file_name)\n",
        "  print('file... '+file_name)\n",
        "  new_file_name = file_name.replace('code/','').replace('/','_')\n",
        "  f = open(\"findings/\"+new_file_name,\"w+\")\n",
        "  f.write('Findings from GPT 3 Davinci with improved prompt and chunked code ...\\n')\n",
        "  print('Findings from GPT 3 Davinci with improved prompt and chunked code ...')\n",
        "  responses = GPT_Detection_3_withTokens(file_content)\n",
        "  for response in responses:\n",
        "      f.write(response)\n",
        "      f.write('\\n')\n",
        "  f.write('\\n********\\n')\n",
        "  f.close"
      ]
    },
    {
      "cell_type": "code",
      "execution_count": 4,
      "metadata": {
        "id": "2T10aceDv4Fp"
      },
      "outputs": [],
      "source": [
        "#baseprompt = 'Find out all issues in this code '\n",
        "#baseprompt = 'Find all the issues in this code and list the CVE, CWE, CVSS number with explanation '\n",
        "# baseprompt = 'Detect security issues in the code '\n",
        "# baseprompt = 'Report all the security issues from the below code, in json format, along with the type, description, location, example and the sample fix '\n",
        "# baseprompt = 'list all the security issues from the below code \\\n",
        "#               and report the list in JSON format, along with the \\\n",
        "#               type, description, location, example and the sample fix '\n",
        "baseprompt = 'list all the security issues from the below code \\\n",
        "              only in JSON format, along with the \\\n",
        "              type, description in 20 words, line number, example code fix '\n",
        "\n",
        "def GPT_Detection_3(texts, temp=0.2):\n",
        "  texts = baseprompt + texts\n",
        "  if len(texts) > 3000:\n",
        "    return 'MAX_TOKENS_EXCEEDED'\n",
        "  response = openai.Completion.create(engine=\"text-davinci-003\",\n",
        "                                      prompt =  texts,                                    \n",
        "                                      temperature = temp,\n",
        "                                      top_p = 1,\n",
        "                                      max_tokens = 2000,\n",
        "                                      frequency_penalty = 0,\n",
        "                                      presence_penalty = 0.5)\n",
        "  return response.choices[0].text\n",
        "\n",
        "def GPT_Detection_3_5(texts, temp=0):\n",
        "  texts = baseprompt + texts\n",
        "  if len(texts) > 3000:\n",
        "    return 'MAX_TOKENS_EXCEEDED'\n",
        "  response = openai.ChatCompletion.create(model=\"gpt-3.5-turbo\",\n",
        "                               messages=[\n",
        "                                   {\"role\": \"user\", \"content\":texts}\n",
        "                               ],\n",
        "                               temperature=temp,\n",
        "                               max_tokens = 4000-len(texts),\n",
        "                               frequency_penalty = 0,\n",
        "                               presence_penalty = 0\n",
        "                               )\n",
        "  return response.choices[0].message.content\n",
        "\n",
        "def GPT_Detection_3_5_withImprovedPrompt(texts, temp=0):\n",
        "  texts = baseprompt + texts\n",
        "  if len(texts) > 3000:\n",
        "    return 'MAX_TOKENS_EXCEEDED'\n",
        "  response = openai.ChatCompletion.create(model=\"gpt-3.5-turbo\",\n",
        "                               messages=[\n",
        "                                   {\"role\": \"user\", \"content\":texts},\n",
        "                                   {\"role\": \"user\", \"content\": \"Identify any \\\n",
        "                                   security issues in the given code. \\\n",
        "                                   Specify the type of security vulnerability \\\n",
        "                                   first, then provide a 20 words short description of \\\n",
        "                                   the vulnerability identified and then \\\n",
        "                                   provide a concise fix by quoting the code \\\n",
        "                                   to be fixed\"},\n",
        "                                   {\"role\": \"user\", \"content\": \"use the following format\\\n",
        "                                   Type: Insecure File Upload\\\n",
        "                                   Description: \\\n",
        "                                   Fix: \"}\n",
        "                               ],\n",
        "                               temperature=temp,\n",
        "                               max_tokens = 4000-len(texts),\n",
        "                               frequency_penalty = 0,\n",
        "                               presence_penalty = 0\n",
        "                               )\n",
        "  return response.choices[0].message.content\n",
        "\n",
        "def consolidate_summary(texts, temp=0):\n",
        "  texts = 'Consolidate these summaries by maintaining the same format of Type, Description and fix ' + texts\n",
        "  response = openai.ChatCompletion.create(model=\"gpt-3.5-turbo\",\n",
        "                               messages=[\n",
        "                                   {\"role\": \"user\", \"content\":texts},\n",
        "                                   {\"role\": \"user\", \"content\": \"Consolidate the given text and remove duplicate information, provide the list in the same format\"},\n",
        "                                   {\"role\": \"user\", \"content\": \"use the following format for each finding\\\n",
        "                                   Type: Insecure File Upload\\\n",
        "                                   Description: \\\n",
        "                                   Fix: \"}\n",
        "                               ],\n",
        "                               temperature=temp,\n",
        "                               max_tokens = 4000-len(texts),\n",
        "                               frequency_penalty = 0,\n",
        "                               presence_penalty = 0\n",
        "                               )\n",
        "  \n",
        "  return response.choices[0].message.content\n",
        "\n",
        "def consolidate_summary_3(texts, temp=0):\n",
        "  texts = 'Combine the json objects into one unique list based on line number' + texts\n",
        "  response = openai.Completion.create(engine=\"text-davinci-003\",\n",
        "                                      prompt =  texts,                                    \n",
        "                                      temperature = temp,\n",
        "                                      top_p = 1,\n",
        "                                      max_tokens = 3000,\n",
        "                                      frequency_penalty = 0,\n",
        "                                      presence_penalty = 0)\n",
        "  return response.choices[0].text\n",
        "\n",
        "def GPT_Detection_3_5_withTokens(texts, temp=0):\n",
        "    responses = []\n",
        "    chunks = break_up_text_to_chunks(texts)\n",
        "    for i, chunk in enumerate(chunks):\n",
        "      prompt = convert_to_detokenized_text(chunk)\n",
        "      response = GPT_Detection_3_5_withImprovedPrompt(baseprompt+prompt, temp)\n",
        "      responses.append(response)\n",
        "\n",
        "    # return consolidate_summary(str(responses))\n",
        "    return responses\n",
        "\n",
        "def GPT_Detection_3_withTokens(texts, temp=0):\n",
        "    responses = []\n",
        "    chunks = break_up_text_to_chunks(texts, 300, 50)\n",
        "    for i, chunk in enumerate(chunks):\n",
        "      prompt = convert_to_detokenized_text(chunk)\n",
        "      response = GPT_Detection_3(baseprompt+prompt, 0.2)\n",
        "      responses.append(response)\n",
        "\n",
        "    return consolidate_summary_3(str(responses))\n",
        "    #return responses"
      ]
    },
    {
      "cell_type": "code",
      "source": [
        "# file_list = get_files_list(\"code\")\n",
        "# print(file_list)"
      ],
      "metadata": {
        "id": "k9WspXSEBF6M",
        "colab": {
          "base_uri": "https://localhost:8080/"
        },
        "outputId": "24d22af1-c75a-48ed-bd60-255a5719dd42"
      },
      "execution_count": null,
      "outputs": [
        {
          "output_type": "stream",
          "name": "stdout",
          "text": [
            "['code/CVE-2015-8562.php', 'code/Buffer Overflow/gets.c', 'code/Buffer Overflow/sprintf.c', 'code/Buffer Overflow/netkit-telnet 0.17.c', 'code/Buffer Overflow/example1.c', 'code/Buffer Overflow/strcpy.c', 'code/Buffer Overflow/example2.c', 'code/Buffer Overflow/bof1.c', 'code/SQL Injection/example1.rb', 'code/SQL Injection/sql.js', 'code/SQL Injection/example2.js', 'code/SQL Injection/SQLi.cs', 'code/SQL Injection/sqli.php', 'code/SQL Injection/blindsqli.php', 'code/SQL Injection/example.java', 'code/SQL Injection/mysql.js', 'code/Format String Attacks/vuln.c', 'code/Format String Attacks/FormatString.c', 'code/Insecure File Uploads/example3.php', 'code/Insecure File Uploads/example2.php', 'code/Insecure File Uploads/example1.php', 'code/Insecure File Uploads/WishList.php', 'code/Insecure File Uploads/Insomnihack_2019_l33t-hoster.php', 'code/Code Injection/example1.rb', 'code/Code Injection/eval.php', 'code/Code Injection/eval2.php', 'code/LDAP Injection/example2.asp', 'code/LDAP Injection/example1.php', 'code/LDAP Injection/LDAP.cs', 'code/Sensitive Data Exposure/hardcoded.ts', 'code/Sensitive Data Exposure/Railsgoatconfig.rb', 'code/Sensitive Data Exposure/graphql.ts', 'code/NoSQL Injection/mongodb.js', 'code/Out of Bounds/damnvuln.c', 'code/Server Side Template Injection/asis_ssti_pt.py', 'code/Server Side Template Injection/sstigolang.go', 'code/Server Side Template Injection/test.py', 'code/Server Side Template Injection/Twig.php', 'code/Resource Injection/example1.asp', 'code/Unsafe Deserialization/unsafe.js', 'code/Unsafe Deserialization/pickle2.py', 'code/Unsafe Deserialization/de.js', 'code/Unsafe Deserialization/unserialize.php', 'code/Unsafe Deserialization/CVE-2017-2809.py', 'code/Unsafe Deserialization/java/SerializeToFile.java', 'code/Unsafe Deserialization/java/LogFile.java', 'code/XXE/xxe.js', 'code/XXE/XmlReader_Tests.cs', 'code/XXE/xxe1.cs', 'code/XXE/test2.php', 'code/XXE/test.php', 'code/Path Traversal/example1.java', 'code/Path Traversal/PT1.cs', 'code/Path Traversal/phpexample.php', 'code/Path Traversal/ZipTraversal.java', 'code/Path Traversal/example2.php', 'code/Path Traversal/example3.java', 'code/Path Traversal/PT3.cs', 'code/Path Traversal/ZipTraversalPatched.java', 'code/Path Traversal/PT4.cs', 'code/Path Traversal/gq.js', 'code/Path Traversal/expresstest.js', 'code/Path Traversal/py_ctf.py', 'code/Path Traversal/bypass.php', 'code/Path Traversal/PT2.cs', 'code/Command Injection/CVE-2019-16662.php', 'code/Command Injection/tainted.py', 'code/Command Injection/Cryptolog.php', 'code/Command Injection/cmd1.php', 'code/Command Injection/exec.js', 'code/Command Injection/OSI.cs', 'code/Command Injection/CVE-2019-16663.php', 'code/Command Injection/cmd6.php', 'code/Command Injection/cmd4.php', 'code/Command Injection/cmd3.php', 'code/Command Injection/cmd5.php', 'code/Command Injection/cmd2.php', 'code/PostMessage Security/challenge3.js', 'code/PostMessage Security/challenge1.js', 'code/PostMessage Security/challenge_2.js', 'code/Use After Free/damnvuln.c', 'code/Log Forging/logf.cs', 'code/ReDoS/redos.js', 'code/Connection String Injection/example3.asp', 'code/Connection String Injection/example1.c', 'code/Connection String Injection/example2.java', 'code/IDOR/example1.php', 'code/XSS/example1.html', 'code/XSS/Spring.java', 'code/XSS/express.js', 'code/XSS/XSS.cs', 'code/XSS/dom.php', 'code/XSS/example.php', 'code/XSS/Cookie Security/sc.cs', 'code/XSS/Cookie Security/sc2.cs', 'code/File Inclusion/lfi11.php', 'code/File Inclusion/lfi7.php', 'code/File Inclusion/lfi4.php', 'code/File Inclusion/lfi10.php', 'code/File Inclusion/lfi3.php', 'code/File Inclusion/lfi9.php', 'code/File Inclusion/lfi1.php', 'code/File Inclusion/lfi5.php', 'code/File Inclusion/lfi14.php', 'code/File Inclusion/lfi13.php', 'code/File Inclusion/lfi12.php', 'code/File Inclusion/lfi6.php', 'code/File Inclusion/lfi2.php', 'code/File Inclusion/lfi8.php', 'code/Zip Traversal/myApp.cs', 'code/java/URLRedirectSafe.java', 'code/java/XSS.java', 'code/java/SI.java', 'code/java/SIRemoved.java', 'code/java/XSSRemoved.java', 'code/java/URLRedirect.java', 'code/Integer Overflow/damnvuln.c', 'code/Open Redirect/koa.js', 'code/Open Redirect/example1.rb', 'code/Open Redirect/example1.php', 'code/Open Redirect/redirect.js', 'code/XPATH Injection/xpath.cs', 'code/Prototype Pollution/lodash.js', 'code/Symlink Attack/file.c', 'code/PHP Object Injection/tarlogic-ex1.php', 'code/PHP Object Injection/tarlogic1.php', 'code/PHP Object Injection/tarlogic-ex2.php', 'code/PHP Object Injection/chall1.php', 'code/PHP Object Injection/chall2.php', 'code/Denial Of Service/example1.aspx.cs', 'code/Denial Of Service/example2.c', 'code/Denial Of Service/dos.js', 'code/Code Execution/Discourse_SNS_webhook_RCE.rb', 'code/SSRF/express.js']\n"
          ]
        }
      ]
    },
    {
      "cell_type": "code",
      "execution_count": null,
      "metadata": {
        "id": "NPlL5_iNa6nA"
      },
      "outputs": [],
      "source": [
        "# file_list = ['code/CVE-2015-8562.php', 'code/Buffer Overflow/gets.c', 'code/Buffer Overflow/sprintf.c', 'code/Buffer Overflow/netkit-telnet 0.17.c', 'code/Buffer Overflow/example1.c', 'code/Buffer Overflow/strcpy.c', 'code/Buffer Overflow/example2.c', 'code/Buffer Overflow/bof1.c', 'code/SQL Injection/example1.rb', 'code/SQL Injection/sql.js', 'code/SQL Injection/example2.js', 'code/SQL Injection/SQLi.cs', 'code/SQL Injection/sqli.php', 'code/SQL Injection/blindsqli.php', 'code/SQL Injection/example.java', 'code/SQL Injection/mysql.js', 'code/Format String Attacks/vuln.c', 'code/Format String Attacks/FormatString.c', 'code/Insecure File Uploads/example3.php', 'code/Insecure File Uploads/example2.php', 'code/Insecure File Uploads/example1.php', 'code/Insecure File Uploads/WishList.php', 'code/Insecure File Uploads/Insomnihack_2019_l33t-hoster.php', 'code/Code Injection/example1.rb', 'code/Code Injection/eval.php', 'code/Code Injection/eval2.php', 'code/LDAP Injection/example2.asp', 'code/LDAP Injection/example1.php', 'code/LDAP Injection/LDAP.cs', 'code/Sensitive Data Exposure/hardcoded.ts', 'code/Sensitive Data Exposure/Railsgoatconfig.rb', 'code/Sensitive Data Exposure/graphql.ts', 'code/NoSQL Injection/mongodb.js', 'code/Out of Bounds/damnvuln.c', 'code/Server Side Template Injection/asis_ssti_pt.py', 'code/Server Side Template Injection/sstigolang.go', 'code/Server Side Template Injection/test.py', 'code/Server Side Template Injection/Twig.php', 'code/Resource Injection/example1.asp', 'code/Unsafe Deserialization/unsafe.js', 'code/Unsafe Deserialization/pickle2.py', 'code/Unsafe Deserialization/de.js', 'code/Unsafe Deserialization/unserialize.php', 'code/Unsafe Deserialization/CVE-2017-2809.py', 'code/Unsafe Deserialization/java/SerializeToFile.java', 'code/Unsafe Deserialization/java/LogFile.java', 'code/XXE/xxe.js', 'code/XXE/XmlReader_Tests.cs', 'code/XXE/xxe1.cs', 'code/XXE/test2.php', 'code/XXE/test.php', 'code/Path Traversal/example1.java', 'code/Path Traversal/PT1.cs', 'code/Path Traversal/phpexample.php', 'code/Path Traversal/ZipTraversal.java', 'code/Path Traversal/example2.php', 'code/Path Traversal/example3.java', 'code/Path Traversal/PT3.cs', 'code/Path Traversal/ZipTraversalPatched.java', 'code/Path Traversal/PT4.cs', 'code/Path Traversal/gq.js', 'code/Path Traversal/expresstest.js', 'code/Path Traversal/py_ctf.py', 'code/Path Traversal/bypass.php', 'code/Path Traversal/PT2.cs', 'code/Command Injection/CVE-2019-16662.php', 'code/Command Injection/tainted.py', 'code/Command Injection/Cryptolog.php', 'code/Command Injection/cmd1.php', 'code/Command Injection/exec.js', 'code/Command Injection/OSI.cs', 'code/Command Injection/CVE-2019-16663.php', 'code/Command Injection/cmd6.php', 'code/Command Injection/cmd4.php', 'code/Command Injection/cmd3.php', 'code/Command Injection/cmd5.php', 'code/Command Injection/cmd2.php', 'code/PostMessage Security/challenge3.js', 'code/PostMessage Security/challenge1.js', 'code/PostMessage Security/challenge_2.js', 'code/Use After Free/damnvuln.c', 'code/Log Forging/logf.cs', 'code/ReDoS/redos.js', 'code/Connection String Injection/example3.asp', 'code/Connection String Injection/example1.c', 'code/Connection String Injection/example2.java', 'code/IDOR/example1.php', 'code/XSS/example1.html', 'code/XSS/Spring.java', 'code/XSS/express.js', 'code/XSS/XSS.cs', 'code/XSS/dom.php', 'code/XSS/example.php', 'code/XSS/Cookie Security/sc.cs', 'code/XSS/Cookie Security/sc2.cs', 'code/File Inclusion/lfi11.php', 'code/File Inclusion/lfi7.php', 'code/File Inclusion/lfi4.php', 'code/File Inclusion/lfi10.php', 'code/File Inclusion/lfi3.php', 'code/File Inclusion/lfi9.php', 'code/File Inclusion/lfi1.php', 'code/File Inclusion/lfi5.php', 'code/File Inclusion/lfi14.php', 'code/File Inclusion/lfi13.php', 'code/File Inclusion/lfi12.php', 'code/File Inclusion/lfi6.php', 'code/File Inclusion/lfi2.php', 'code/File Inclusion/lfi8.php', 'code/Zip Traversal/myApp.cs', 'code/java/URLRedirectSafe.java', 'code/java/XSS.java', 'code/java/SI.java', 'code/java/SIRemoved.java', 'code/java/XSSRemoved.java', 'code/java/URLRedirect.java', 'code/Integer Overflow/damnvuln.c', 'code/Open Redirect/koa.js', 'code/Open Redirect/example1.rb', 'code/Open Redirect/example1.php', 'code/Open Redirect/redirect.js', 'code/XPATH Injection/xpath.cs', 'code/Prototype Pollution/lodash.js', 'code/Symlink Attack/file.c', 'code/PHP Object Injection/tarlogic-ex1.php', 'code/PHP Object Injection/tarlogic1.php', 'code/PHP Object Injection/tarlogic-ex2.php', 'code/PHP Object Injection/chall1.php', 'code/PHP Object Injection/chall2.php', 'code/Denial Of Service/example1.aspx.cs', 'code/Denial Of Service/example2.c', 'code/Denial Of Service/dos.js', 'code/Code Execution/Discourse_SNS_webhook_RCE.rb', 'code/SSRF/express.js']\n",
        "# for file in file_list:\n",
        "#   time.sleep(10)\n",
        "#   get_predictions_updated(file)"
      ]
    },
    {
      "cell_type": "code",
      "source": [
        "question = get_file_content('code/java/SI.java')\n",
        "print(GPT_Detection_3_withTokens(question))"
      ],
      "metadata": {
        "colab": {
          "base_uri": "https://localhost:8080/"
        },
        "id": "N4z8Jy2JdtCt",
        "outputId": "df86bed0-ab3d-447e-d1b1-4e76bd3f79c3"
      },
      "execution_count": 7,
      "outputs": [
        {
          "output_type": "stream",
          "name": "stdout",
          "text": [
            "\n",
            "\n",
            "[\n",
            "  {\n",
            "    \"type\": \"SQL Injection\",\n",
            "    \"description\": \"Insecure direct object reference vulnerability that allows attackers to inject malicious SQL code into the application.\",\n",
            "    \"lineNumber\": 20,\n",
            "    \"exampleCodeFix\": \"Use prepared statements and parameterized queries to prevent SQL injection attacks.\"\n",
            "  },\n",
            "  {\n",
            "    \"type\": \"Logging Vulnerability\",\n",
            "    \"description\": \"Logging sensitive information such as passwords in plain text.\",\n",
            "    \"lineNumber\": 24,\n",
            "    \"exampleCodeFix\": \"Ensure that sensitive information is not logged in plain text.\"\n",
            "  },\n",
            "  {\n",
            "    \"type\": \"SQL Injection\",\n",
            "    \"description\": \"Including user input directly in a SQL query\",\n",
            "    \"lineNumber\": 8,\n",
            "    \"exampleCodeFix\": \"Use prepared statements to prevent SQL injection\"\n",
            "  },\n",
            "  {\n",
            "    \"type\": \"Logging Sensitive Data\",\n",
            "    \"description\": \"Logging sensitive data such as passwords\",\n",
            "    \"lineNumber\": 10,\n",
            "    \"exampleCodeFix\": \"Redact sensitive data before logging\"\n",
            "  }\n",
            "]\n"
          ]
        }
      ]
    },
    {
      "cell_type": "code",
      "execution_count": 8,
      "metadata": {
        "colab": {
          "base_uri": "https://localhost:8080/"
        },
        "id": "VrI8Q9EYwjfj",
        "outputId": "f3a8ec9d-74f6-4d93-e763-653fd01b34ff"
      },
      "outputs": [
        {
          "output_type": "stream",
          "name": "stdout",
          "text": [
            "\n",
            "\n",
            "[\n",
            "  {\n",
            "    \"type\": \"Insecure Direct Object Reference (IDOR)\",\n",
            "    \"description\": \"The URL parameter is not validated, allowing attackers to redirect users to malicious websites.\",\n",
            "    \"lineNumber\": 15,\n",
            "    \"exampleCodeFix\": \"Validate the URL parameter before redirecting the user.\"\n",
            "  }\n",
            "]\n"
          ]
        }
      ],
      "source": [
        "question = get_file_content('code/java/URLRedirect.java')\n",
        "print(GPT_Detection_3_withTokens(question))"
      ]
    },
    {
      "cell_type": "code",
      "source": [
        "question = get_file_content('code/java/XSS.java')\n",
        "print(GPT_Detection_3_withTokens(question))"
      ],
      "metadata": {
        "colab": {
          "base_uri": "https://localhost:8080/"
        },
        "id": "s34rg7SdMEka",
        "outputId": "bad67ee4-649f-4e06-abe2-1c00c7508a41"
      },
      "execution_count": 9,
      "outputs": [
        {
          "output_type": "stream",
          "name": "stdout",
          "text": [
            "\n",
            "\n",
            "[\n",
            "  {\n",
            "    \"type\": \"Cross-Site Scripting (XSS)\",\n",
            "    \"description\": \"Injecting malicious code into webpages\",\n",
            "    \"lineNumber\": 8,\n",
            "    \"exampleCodeFix\": \"Sanitize user input before returning it\"\n",
            "  },\n",
            "  {\n",
            "    \"type\": \"Cookie Injection\",\n",
            "    \"description\": \"Injecting malicious cookies into a user's browser\",\n",
            "    \"lineNumber\": 10,\n",
            "    \"exampleCodeFix\": \"Validate and sanitize cookie values before using them\"\n",
            "  }\n",
            "]\n"
          ]
        }
      ]
    },
    {
      "cell_type": "code",
      "source": [],
      "metadata": {
        "id": "plnJwgUsFz7y"
      },
      "execution_count": null,
      "outputs": []
    },
    {
      "cell_type": "markdown",
      "source": [
        "# **Summary**\n",
        "\n",
        "The finalized model was tested on repository of vulnerable code snippets of 128 files. The code snippets include code from python, java, C, C++, C#, Ruby, Go, PHP etc. The repository was also scanned by code scanning tools like CodeQL and Snyk Security. Here is the number of issues found by each scanning tool\n",
        "\n",
        "![image.png](data:image/png;base64,iVBORw0KGgoAAAANSUhEUgAAAbMAAAEKCAYAAACYKLs6AAAAAXNSR0IArs4c6QAAAARnQU1BAACxjwv8YQUAAAAJcEhZcwAAFxEAABcRAcom8z8AADmLSURBVHhe7Z33c1RZlufnj9mIjYnY3YmJ2ImdnuqemOjt/mV/6JmJ6e6a8lRBU4CAgoLCe4/wtihAeO+toHBCwntReAqPQMiA8F1NAWf5HPJqspMU5AOl0uj7ibigfPnyvfvue+987znX/Y2lmefPn9uFCxfsL3/5S2xLfvLo0SO7ePFi7FP+Ul1dbTdv3ox9yl+uXLli9+7di33KT54+fervJv/nMw8ePLDLly/HPuUvt27dsqqqqtin/OXSpUv28OHD2Kf/4m/4ghc3nQkjn2x7PiVeluZwnTwvTfHMZDpxL7mnyb7Lp6R3M39Sc3w3ud4bN268FDM2UDNLZ3r27FnS7fmWdJ35k3Qv8ys1l2e2ub2beGhXr159KWbXrl3zP4QQQohc4qeffrKgYRIzIYQQOcmf//xniZkQQojcRmImhBAi55GYCSGEyHkkZkIIIXIeiZkQQoicR2ImhBAi55GYCSGEyHkkZkIIIXIeiZkQQoicR2ImhBAi55GYibzi/v37VlxcbHPmzPH/45eHYDLS8vJy315TUxPbmpvs37/fduzY4fPR5Tpcw+7du62srMweP34c2ypENBCz69ev+98SM/FO7Nq1y4qKitzIxsMaUuvXr7etW7em1fiyjhwi1rZtW8/Htm3bfFuAc48ePdr+9V//1Y4ePRrbmpsMHDjQCgoK7O7du7EtuUtdXZ317NnTunbtarW1tbGtQkSDdTJZkw9Bk5iJd2LcuHH2m9/8xlq2bGlnzpyJbX25UOBXX31l/fr1c88pXXCeDh06uKAlg+UiWPMIIcv1xTZHjRpl3bp1S/k6fvjhB/vuu+/s3LlzsS3vzo8//mgTJkzwNaXeBa5h8ODB1r9/f7t9+3ZsqxDRoLLK+80zJDET7wTGsn379vbJJ5/YxIkTY1tfrkjdq1cvGzFihHtp8YT1iPg/VcJv4mEVc4xqq1atbMWKFb4P21KloTxwDL6Lcqx4wu8bur5k19IQ8fviYSYTs2THY9u6devsww8/dK852fWwD6khwnHD7/hcWlpqv/vd7zxEmOyYbHvTMUlcw5AhQyRm4p1QmFE0GlOnTrXOnTvblClTPNR37Ngx3077VKKY0TYyb9486969u3+HCBIWfB08qHh/33zzjf8GY37ixAn/7uDBg+79ffDBB9auXTvfh7BnIlu2bHEPEa8CCEsMHTrUQ1wY0/AbjCxtOGzv0aOHFRYW+nVgsL///nsbNmxY/YsD7Mu1xG87f/68h8/Ia6dOnWzt2rX1Bp9a5JIlS/zYX3/9tc2cOfMVoQ/Q7kdZdenSxRNtfuSZ3wYxY5/58+f7dZOP4cOH+wq8sHjxYi+Tjz76yDp27OjlVlJS4t8R1kMYOS6/mzRpkv3888/+HVAOHJffcb4BAwb4fV26dKl7wZQ318Z5ETcgL5RPuLZp06a90nZJGJjz9enTx//meiRm4l1QBxDRaEyePNmNIqu9YsQwaBguDGYQM9qwMJaEp9gXMSI8iIHGo0MUEmv4wDERBo6BB1ZZWemeIO1Gp06dcnE8dOiQff755zZ79mz/Pt6ABhCQTz/9tP43GFC8SPJw+vRpPybQUQQDjsDy3erVq+vb/DDkX375Zb0gAm2Cf/jDH+pDbvz/pz/9yYWAvHBdCDb7IRD8j/BzTpZ6J1979uzx38bD+WbMmOHCsW/fPt+X/P7+9793YeEaOR7bEN4jR474+RAQyvfmzZveJrV8+XIP/27cuLG+bDgWwo6QIHy8/wgQx+IecVyEkOugbPndpk2bPIxLWx2ijrdHBSEckzLlPiGmbOP6OCYiybVwTMQLD5qQEPeVCgrXg3cmMRNvi8RMNBqIGQYag4bR/Pjjj+3AgQP+kGHgRo4c6WK2d+9eN6wYwwDGE++HGj5hyXgwgHgmCEh8mw/GETHDUEJFRYV98cUXtmrVKv+cDEKQGOezZ8+64URg5s6dG/v25bkA8WG/w4cP+2cgj4gzwoDQxbcVIcZcL8YZMR4zZoy3A8XDNYTrW7RokZdVfAeOeI8ogDdIPvhtAO8P4aKCQFkjSuwTPCPgXcY7JrwIhBfZB0EMbNiwwT02fh9ADBGakydP2pUrV/w+cW3x0NAOCBxiFt+ZhrLnmNybAD0vOTfCRr74PvF6uA90apGYibdFYiYaDcSMUN+TJ088/EX4CYGqqqqyvn37uphRe8ezadOmjXsN8eD9YPSosccT2lTwROI7kCAaeGocGzC+iBli0xBBzDDWQF7o3UiYD2+NFwJ4Fzhu69atXZhDnjjn68QMw8z1I1p4PIQ/MeaIOp02EArEA8OOUaeM+J4ySgbnQFC2b98e2/ISQoOE6RDDzZs3+3FXrlzp5+F45BkPFC8IgcbD5Lpp3wK24fFxfXzHb0iI3/vvv++ih0h99tlnfsxksA9ixjUG8Oq4Js4TrhvvlHAk4ocnHp8P4J6qzUy8KxIz0WgEMQvd4fFuaKdZsGCBG/YgZoSu8KgSezZigPG+aMeKB4M9aNAgD13hiQQwyGPHjvV2F3gbMQO2cXzECOMf8oUwTZ8+3UOmiAVGG89s2bJlLmbxoougECblN3glCBXeBgIWEt4aXmBo5yIPhNg4FqIS2rjioQ2P0Glo4wpwLMQshBARLkKG4VyIHcdGUBBgvOB4ESGP7MP9IRwcfkflg2vm2rje+LbPRPCwEal4MeMetWjRwu91fF6+/fZbNzScn+vhtwHKQ21m4l2RmIlGI4gZggV0aMDoYtjZzt98R3gLcaBdKh7aYjC4CEI8PKTjx493UaH9Kh7aYwhPQRQxCx1H4sGDwNDiQcSDgUUoCOuF/CNU8W1mdO744x//6KFOPDO8E4QxFbje//zP/3QRCWHOAN4ieeKcAY5PCJNrRwhox8LTjfcUE0EMEcwgIogyHXXwIIM3mkgIOSaWRwCvC88t/nsqF5RTQyCuHBPxD22jPCe9e/d2z1tiJt4WiZloNBLFDPA+8Br+7d/+zT0FvDYECeNLSCqAN4bRRlCSGVc8FLwIDHcAzw9vKhhTvAmO8SYxw5jSZkb7Vny4CwOLGGKk8TbiBQ+Pg16ACAkhQsQntPkhIogX4UrEDLgOvJp4743jkWfKgDasEGbFu6I86A2aKGYYejpy4DkiQLBw4UIXTjwZjkVHCyoMofMK0K5FJ5OQH/KI8NBZI8C1UxbxbZccj3Al95B80TaHtxba8zhe8BIZu8a9jS9D7hNlyHUGQseRO3fuuJfNMakcBAj1/sd//IcLtMRMvC0SM9FoUCsnTBjfxZwHjN6Fv/71r72jRhAqauiEGkMoCoONMW+oezq/o9MEHlEIYXEuehgGEETacAhjNgS9BgkH4vHQToWg0l7DMREEfovBJX94fIgYQkJnjdB5AqEgdIo48D0iTZiMkFvwjjDcCBreEGE22vY4B8fgWvCQ8KwQCow7nkmy9w9xoxNKEADa8ShPQquEGUPIkvwituSVssHL4fxh2i7CioQTKTM8ZEKHCBdtZIQ5QxmQHzpxhPuEAPM93hbfcQ5EEjg3x0SI+Z/yp2yCF8j+XDdlhOcawrcMqKd3Juckr5w3dGjRDCDibeGZlZiJRgFPB0MVPIgARo+QFR0f4j0PxmFRkydhsEMvuYbAO8AbCL9JDBXSnoYnmBiKjIfv2CeIJp8RFjwJwp6hFx4hMHpOsp0u84khPPKCB8f3hBvxYrh2BCLAtSIyeC7sl3gMrjlcS0MdQAKEUMkHPRbxmjD6lB+eYoB9OBcJ0YzvUQgIG3nmOMEr5DoRdvJAHrlPiXDckE/yHH9Ojkn5ka94r+r48eP1x+SeJT4TeKx8R/lw7dwHyjH+2EJEQWImhBAi55GYCSGEyHkkZkIIIXIeiZkQQoicR2ImhBAi55GYCSGEyHkQszDhgsRMCCFETsLQHsY6MgRIYiaEECInYVwlYzlZlUJiJoQQIidRmFEIIUTOow4gQgghch6JmRBCiJxHYiaEECLnSVnMmCWcGbOZ6ZrZsJmVO6yMyxpHbGdG7jAbOd0k+cxs2hJJIYQQ6SRlMaPb46xZs3z9IdZvYlE/FgNkjSLWR2KdJdZXYqE9lnHYtm2br1HFmlAsukfffyGEECIdvFWYEbFiIUXWMWJxRMQMz41ukSwOyLpQ/M86RsD3xcXF/rcQQgjR2LyVmLFMPSvIElLEW2MZdyC0iNfGar54ZGGVW5axnzNnzhsXXxRCCCHehshihoDNnDnTVqxY4Z+Liops5cqV/jcHmzx5ss2dO9eXSmf5eVizZo2LXvwqvK+DlXQJS9IWp6SkpKTUvBIrqcevSp8KkcWMpc379OnjS8oDYoZQAQcrLCy0tWvXWr9+/erbyRYsWOApcen0hiCMiWjSHsf/SkpKSkrNI2H3Hz9+bM+fP48pQmpEEjNOMHv2bJs+fXq9MG3atMlDivRs3LNnj4cfmR+LTh+bN2+2W7du+d+7d+/2/YUQQojGJpKY4frRJkYX/QDtYFOmTLGCggLr0aOHd/pAUdmnXbt21qlTJ1u0aJHay4QQQqSNSGKGSBECTHT/6MmIe4jnFg9tZGyPGvsUQgghohC5zUwIIYTINiRmQgghch7ETEvACCGEyGnol0HnQzodSsyEEELkJIjZhQsXrLKyUmImhBAiN1GYUQghRM6jDiBCCCFyHomZEEKInEdiJoQQIueRmAkhhMh5JGZCCCFyHomZEELkGHfu3LEtW7b4osfz5s2zgwcP+jqQrFQSti1evNgXUmaFk9OnT/s6kyyUfPPmzdhR8guJmRBC5BhHjx61li1bWu/evW38+PFWUlLi64AhVmPGjLFJkybZhx9+aEOHDvUZMViaiwWTv/76a19zMh+RmAkhRI6BmCFQiSuVBFjZZOTIkb7eJCJ3/vx5375161br2LGj/51vSMyEECLHOH78uH3xxRfWqlUr69mzpx04cCD2zUt27tzpiybjlQEhSdaWZI3J+PUo8wmJmRBC5Bh4ZGfOnPHV/VkcGZH66aef6r8bNmyYL4ocuHr1qq/2P2PGDPfY7t27F/smf4gsZizEWVdX5ykUHgt23r17193Z+IU7+cx+fC+EEKLxQZhat25tly9f9s/l5eXWrVs3X/Uf4lf5x1Oj3ezIkSOxLflDJDGj0GbNmmXffPONJ2oFCFVRUZF99dVX1rVrV3dvgYKk0HBtp02blpc1ASGEyASs4I+3denSJVu5cqX16tXLjTn2mA4edAIJK/zTo5EejiyPUlZWZm3btvXZ5fONlMWMglmxYoWNGzcutuVlIyO9aGiI5Lf79u1z9/bKlStemDQ21tTU2ODBg23Xrl2xXwkhhHgX9u/f784CPRoLCgrs7Nmzvr26utrDjtjiAF3z+/XrZ59++ql16dLFu/HnIymLGXHY0aNH2/Tp023v3r3ueVELQPFnz57t+3CwUaNG2Zo1a6x///714xkWLlxoCxYs8EIVQgghGhv0J6UlYB49euS9Y1B4GhCJyW7bts3mz59vq1at8n042OTJk31wHmMaaEcDxI1QJMdIBdriGBSopKSkpPRqoi8C9jWkxO9IidvCvonfZWMijBrf/yIV0A3CrkQDXytmHJzBeXQJBWKvEydOtLFjx9qyZct8Gw2NfF66dKkNGjTIXV5gIB8Cl2pHEESPhkpWDOV/JSUlJaXmkbD7CG5o80uVsNJ0RUXF68UseF0bNmzwzzQ6EmJcsmSJhx/p5UiDJN7bsWPHfGR66E1D6LG4uNj/FkIIIRqblMOMqCSjzumxOGTIEOvbt6+dPHnS3dYBAwZY9+7dffAec4Ph7q1fv97HPhCWpNPI7du3Y0cSQgghGhfELGjYa8UscOLECe+STzfPENPkd2zDIwuhRASNXjN0FgnhRiGEECIdRBYzIYQQItuQmAkhhMh5JGZCCJGFVN7+s12ufGRXbjVd4nw3av4cy0FuITETQogspGDccftF21L7v513N1l6r6DUPh+em/M2SsyEECILaTeu3P6xzU77daddTZb+qd1OazE8N5eIkZgJIUQW0n788RfiUmq/+Xp3k6Vfti+1L0bIMxNCCNFISMyiITETQogsRGIWDYmZEEJkIRKzaEjMhBAiC5GYRUNiJoQQWYjELBoSMyGEyEIkZtGQmAkhRBYiMYsGYpbSEjBCCCGaDolZNMJK06xULTETQogsQWIWDVaa/vHHHz3UKDETQogsQWIWjZTDjKw0zQKc3377ra8cPXfuXKuoqPDvdu/e7dumT59uV65c8W21tbX23Xff2dixY620tNSePn3q24UQQrwZiVk0Uu4Aggs3depUGzlypG3bts1XkCY2ee7cORsyZIgtWbLEv588ebLdu3fPFixY4EK2evVq69Onj50+fTp2JCGEEG9CYhaNlMWMxrWioiIrLi6ObXkJojVlyhT/GxFD2PDE+vXr541xMG3aNFuxYoU9f/7cPwshhHg9ErNopCxmP//8s4cWO3bsaF26dLFJkybZw4cPbc6cObZs2TLfB8GbOHGiCxyihucGq1atslmzZvnJhBBCvBmJWTRSFjN4/Pix3b59286fP2+DBw+27du329KlS2358uX+fRCz+fPn29ChQ62urs63E2pEzPh9KtC+RlhTSUlJqTmmJy9SwbjyjIjZ58MPJ81TUyacp6hEErN48L4QMbyuEGa8f/++e2SIXK9eveo7g9ARBO8t1TAjxyEvV69eVVJSUmpW6dq1q3aj4pq1Ljz0Qlx2JRWddKVfddhlnwze7/m4/iIfiXlrqlRdXe2dDqOQspjhLZ04ccJ7NK5bt847gvD55MmT1rt373rvC+GqqanxjiATJkywzZs328CBA9UBRAghIqAwYzRSFjNcv0WLFllhYaGHGOnkEdi4caMNGjTI29Gqqqp8G932R4wY4eFGBFAIIUTqSMyi8dZhRiGEEOlDYhYNiZkQQmQhErNoSMyEECILkZhFQ2ImhBBZiMQsGhIzIYTIQiRm0ZCYCSFEFiIxi4bETAghshCJWTQQM600LYQQWYbELBpMp3j58mWfQUpiJoQQWYLELBpM7MFK00yjKDETQogsQWIWDYUZhRAiC5GYRUMdQIQQIguRmEVDYiaEEFmIxCwaEjMhhMhCJGbRkJgJIUQWIjGLhsRMCCGyEIlZNCRmQgiRhUjMohFZzH7++WcfmHbmzBkfpAb8bufOnbZ//34ffQ2MxuZzSUmJXb161bcJIYRIDYlZNCKLWU1NjX355ZfWt29fq66utjt37lhhYaH179/fevbsaUuWLLEnT57Yli1brGvXrjZ48GBPN27ciB1BCCHEm5CYRSOSmCFS27dvd+GaPHmy3b171zZs2GBjx461p0+fWkVFhQ0aNMjKy8v9/xMnTvjvxowZYxs3bvS/hRBCvBmJWTQiidnRo0dt2rRpHj5EwB48eGBz5syxhQsX+veEHceNG+fe2cCBA92Lg+XLl/t+ISwphBDi9UjMopGymD18+NA9rFOnTnmbGWL26NEjmz9/vq1cudL34WB4bHPnzrXhw4e75wZr1qyxWbNm+f6pwLkISzLPFt6ekpKSUnNJN25UWOXNG9a68JC9V1CWVHTSlX7Vocw+HXKgPh+JeWuKhN2vra21Z8+exRQhNVIWs/Pnz1vLli2tX79+1q1bN2vRooUL2ejRo23evHm+Dwej/WzdunW+X2gnYz+8N0KRqUA4E69PSUlJqTmmRw8fWNsxR5tczH7ZvsxaDDvkeXiYkKemTGjJ8+fPY4qQGimLGTuimhcuXPB2sj59+tjZs2dt06ZN3j526dIl27Vrl40cOdL/HjJkiBUXF9vNmze9A8iePXtiRxJCCPEmFGaMRspiFg9e2owZM6yurs69ralTp1pBQYH16NHDO32gqEeOHLF27drZV199ZYsXL3ZvSwghRGpIzKLxVmJGLJPxZsENRNBo5+Jg8Tx+/Ni3R419CiFEc0diFg3GNrMwJ5qTspgJIYRILxKzaNBbnqghzVwSMyGEyBIkZtF4qzCjEEKI9CIxi4bETAghshCJWTQkZkIIkYVIzKIhMRNCiCxEYhYNiZkQQmQhErNoSMyEECILkZhFQ2ImhBBZiMQsGhIzIYTIQiRm0ZCYCSFEFiIxi4bETAghshCJWTQkZkIIkYVIzKIhMRNCiCxEYhYNiZkQQmQhErNoRBYz1jFjoc34Ja35m218Fw+fmZZfCCFENCRm0UhZzBCs69evW/fu3X31aFaafvTokW9fuHChde7c2Vea3r9/v+9/9uxZ35ftc+bM8QXThBBCpIbELBopixmreG7atMlOnDjhQjVw4EA7duyYHT161IYNG2Znzpyx7du324gRI6yiosImTpxo69at85U/2Xfv3r2xIwkhhHgTErNohJWmEbU3hhnxxE6dOmVbt251sbpx44YtWLDAioqK/HsOMnLkSFu/fr3169fPRQ3mz5/v3tvTp0/9sxBCiNcjMYtGWGn64sWLbxazuro6Gzx4sPXs2dMF6v79+x5CXLlypX+PmE2ePNnmzp1rw4cPt7t37/r2NWvW2KxZs1wMhRBCvJkOE36QmEUg5TBjPI8fP3bPbPPmzbZ06VJbvHixb0cZx40b558RvZqaGt++YsUKF71UO4PgLt65c8du376tpKSk1KzSnTu37W7dHWsz+oi9V1CWVHTSlX7Zvsw+G3qwPh+JeWuqhKMU38kwFVIWM3Y8fPhw7JPZ9OnTXcg2btxoo0eP9m03b9709rGDBw9ar1697PTp07597NixHnpMFTy4qqoqq6ystFu3bikpKSk1m1RVdctqqqvsy1GHm1zMftWhzD4dcqA+H4l5a4qE3ScK+OzZs5gipEbKYha8McKIeF2EEdkf0enbt6/179/f/1+7dq3vizdGr0f2Kyws9EwKIYRIDYUZoxEpzEjX/C1btlhxcbH3GgmcO3fOt5WWlnqIEPCu6CjCdn4nhBAiddQBJBpv1WYmhBAivUjMoiExE0K8FRgPeiyHaEyAjl6J22jMp1Gf/fld1Mb95ojELBoSMyFEZGg6YIjOxx9/bF26dPFJE6C2ttaGDBnis/+EcaVMa7d69Wrft0WLFt7bWdPcvRmJWTQkZkKIyNBjmfGjeFsDBgzwITkwc+ZMmzBhgnf+Yr5W2LFjh/Xp08cuXbrkPdQ0eUJqSMyiITETQrwTU6dO9QSED48fP25du3Z1j4zP9ILGi9u1a5ft27fPHjx44PuK1yMxi4bETAjx1uBtderUyUUqEMQML4y2s1GjRtlHH33kE5F/8MEHPoFCYpuaeBWJWTQkZkKIt4LOHEyYwPR18cs/lZeXu5gRTiTUiGdGSBIQOtrTwrytomEkZtGQmAkhInPv3j379ttvbd68ebEt/8WPP/7oXliA5aKYgBxYIqp3796aRCEFJGbRkJgJISKBF7Zo0SJ77733rH379i5OdPygM8js2bOtVatW9tvf/taXhmIG85MnT1rbtm3dW2vXrp2VlJTUdw4RDSMxi4bETAgRCdrCLly4YHv27LGdO3fa999/7/O20g525MgRn/ln9+7dVlZW5pPGAl33WQ+RXpBR59xrrkjMoiExE0KILERiFg2JmRBCZCESs2ggZlevXvUQtsRMCCGyBIlZNMJK04TAJWZCCJElSMyiEcKMDNSXmAkhRJYgMYuG2syEECILkZhFQ2ImhBBZiMQsGpHE7OHDhzZ58mQrLCz0FafDeBHGk4wZM8ZnBLh8+bJvq6mp8c9Md8MgyfjpboQQ2c256w9sxMJzNm75hSZNnPPcNU1EDBKzaKQsZvQUKS4u9klClyxZYr169bIffvjBrly54usXLV261MULsWPOtgULFviyEGvXrvXlH06dOhU7khAi29l6uMr++8db7R++LGnSxDm3HKqK5aJ5IzGLRspixqShlZWV3lMEL2v8+PHucbHo3pQpU3wf5mtD2JgVoG/fvj6jNkybNs1WrFih1WWFyBFKj9fa/2mzM6nBS2finDvLa2O5aN5IzKLxVm1mTCQ6fPhw79OPB7Zs2TLfznQ2zJA9f/58F7U7d+749lWrVtmsWbP8ZKmA6CGeiKaSklLTJt69HUerMiZm249UNev3/+nTl/egYFx5RsTs8+GH6/ORmLemSlx/VCKLGZOJshAfAkabWVFRkS1fvty/ixezoUOHWl1dnW/He4siZpyDvBDCZES3kpJS06Wqm9dsxdYz9ot2ZUkNXjoT51z+4txVldeS5q05pGvXrtqN69esdeGhF+KyK2k5pSv9qsMu+2Tw/vp8JOatKRJ2v6qqKvIcnpHEjJ1pL0OsAsySHcKMiBAe2fbt271NjUzBd9995+KXapiR/bgQJSWlpk/PX6SSY9UZ88x2HK1+YQOS5605pUyGGZPlpynT2zRJpSxmuH2EFD/++GPbuHGjlZaWepiRWbLp4LFy5UpfBmL69OlWW1vrAkcHEDqNDBo0yGfNFkLkBjvLazImZiXHamK5aN6ozSwaKYsZkzfiXU2aNMk7f7BWEUs/AP/jkSFg1dXVvu3GjRvehZ+2tb179/o2IURuIDHLPBKzaEQKMwohmgcSs8wjMYuGxEwI8QoSs8wjMYuGxEwI8QoSs8wjMYuGxEwI8QoSs8wjMYuGxEzkLAyuZGxjPGxjJhrmEQ3QzZdhIyS+F29GYpZ5JGbRQMwYp0bPe4mZyBmY/5O5QFu1alUvXA8ePPDhIB988IG1aNHCjh496mNWGPfYtm1b++ijj3zuUHrmitcjMcs8ErNoaKVpkZMw68yMGTPsww8/dI8LNm/ebF27drWbN2/amjVrfBaaiooKW7hwodfazp49awUFBXbixAnfXzSMxCzzSMyiIc9M5CSEDh89emStW7d2MeMBxitjthlAxHr27Gnnzp3zOUIZ68jKDggcyxOJ1yMxyzwSs2iozUzkLPFiRlsYqzMsWrTIv2PbN998414YoYcePXpY586dffq1MGeoaBiJWeaRmEVDYiZyFtrK4sWMmWnmzZvn3+F9de/e3U6fPu2fgf369evnE1+L1yMxyzwSs2hIzEROQ8eOsFwEKzPggQFzhvbu3dvX1Nu9e7dvIzRJmDF+omyRHIlZ5pGYRUNiJnISOoDQ2eNf/uVffKJrxAvhwlPr1KmTtWvXzucMffz4sXtjeGmEGQcPHuztaeL1SMwyj8QsGhIzkZPQFkbvRbyuHTt21AsUC8du2rTJO3yEMWWI3JYtW2zr1q0+AbZ4MxKzzCMxi4bETAjxChKzzCMxi4bETAjxChKzzCMxi4bETAjxChKzzCMxi0ZkMaM7NDMpMHVQoKqqyqcOOnnypDe4A+0VfKZh/tatW75NCJEbSMwyj8QsGpHE7Pr16z4wtWPHjrZv3z7fxhx5Y8eO9d5i9C5btWqVC1lpaan3KuvVq5evNi1BEyJ3kJhlHolZNFIWM8boHDt2zMfyMGUQvcVg/fr1Nnr0aD/QxYsXbdCgQe6RDRkyxL0yKCws9G7SQojcQGKWeSRm0YgcZmQWBWYeD2LGZK8LFizwv5m1GC9t2bJlNmDAAA8/Ap/nzp2r2cqFyBEkZplHYhaNyGKGQMWLGZ4aoUXgYHyHcBFaJAQJzGBeVFTkc+kJIbKf0h9qMyZmO8trY7lo3kjMohFZzJjzbsqUKbZ//37/jEjNmTPH/2ahxFGjRvncd/379/elOIDJX5lCKAxifRN0MmEQLG10/J/NiWukPRCRJzEol+3hM6mysvKV3yk1nG7eqLArV69b4aKz1rfotA2YfaZJUu+Zp23yynNWeTN5vppLqq26Yau2n7NftCtLavDSmTjnyhfnrq1++R4118Qz2LrwkL1X0LT34FcdyuzTIQc8DzcS8tRUCbtfW1vraxFGIZKYcXCMNRO6lpWV+WfazJgiCIN++PBhGzZsmM9STpixpKTEV/2l/YwOIalCOBJBo8ck/2dzYnYJpkt6//33rUuXLi72JOYA/OSTT3y9rREjRvgNSvZ7pVfToxeptu6+/b9ue+zvW+7w2npTpP/5+Xb7ZOhBe/Qoeb6aS/rz44f2/f4K+8e2TesVkDjn5hfnJg/J8tZcEs9gu7HHmlzMftm+zFoMO5Q0T02VsPsIE/00ohDEjN+9VswQLqYEotci8961adPGpxGiKz7rSLHoYbdu3VzQ2JcwJPvQoxHPjRPlIxs3brTi4mIXNZYc4W+8sTA7++XLl13oo9YymjtPnpq9P+Cg/fOLmmKyly4d6Z8KSq3duPJYDpo3pccVZsw0CjNGI9JK06gmXgfrQfF/aAND0Kqrq30RxADqiKvIdk6Sr+B54hoTbmSWdjxWxKxv3762YcMGFzJ1fInOT0+eScwyiDqAZB6JWTRwmFhpGnubUpuZ+GsQ8JEjR9pnn33m4VTEG9FnuEKrVq3s97//vQ9NYJtIHYlZZpGYZR6JWTQitZmJ1zN9+nQfmhDviVGmLD1CSFakjsQss0jMMo/ELBoSs3eE+GyY2ouB4bQpxodVWTiS9bY0aDwaErPMIjHLPBKzaEjM3hEGjLO6MePr6OzCmlm0ozHWjiEMtKMRcgzDFERqSMwyi8Qs80jMoiExe0fo/ME4um+//bbe+6J9jHF1zGM5c+bM+gIWqSMxyywSs8wjMYuGxExkJRKzzCIxyzwSs2hIzERWIjHLLBKzzCMxi4bETGQlErPMIjHLPBKzaEjMRFYiMcssErPMIzGLhsRMZCUSs8wiMcs8ErNoSMxEViIxyywSs8wjMYuGxExkJRKzzCIxyzwSs2hIzBrg/LUHtnRHha3edbPJ0vKdFVZ5Oz9XF4iKxCyzSMwyj8QsGhKzBpiz6ar9tw+32D98WdJk6W8/3WplP2j5C5CYZRaJWeaRmEVDYtYAi7ddt//duiTpDU9X+kW7nbbv1O1YDpo3ErPMIjHLPBKzaEjMGkBillkkZplFYpZ5JGbRSKuY/fzzz34CZo7PNSRmmUVillkkZplHYhaNsNL0xYsXG1fMONawYcPs66+/9lnjmZA3l5CYZRaJWWaRmGUeiVk0fvrpJ7ty5Yo7UI0mZo8fP/bZ4lms8vbt2zZp0iSfRf7Zs2exPbIfiVlmkZhlFolZ5pGYRSMtYUbW7hoxYoTt27fPP2/fvt2mTp1qd+7c8c+5wIItFfa3n25/YeB2NVn6Xy132N5TuVNG6eTJU7Pf9TrwokKxM2lZpSP9XasSa1l4LJaD5s2OY7X2P1rsSFpO6Uycc/tR9eiFP40qt79rWZK0nNKV/v5PJfbh4MOxHOQWaRGzGzdu2NixY+2HH37wzwcOHHDvrLKy0j+/CWKfLHB59+5d/z8TaX3ZRfti6G7rMHZfk6U/jdhjB05UJM1Pc0u1t+us17TD1rZwb9KySkdqPXKPjZhXnjQ/zS3tKb9urYbvSVpO6Uycc/ex60nz1NzSyPnl1vqFTUhWTulKbQr32KCio0nz01QJu//o0SN7/vx5TBFSIy1iRvvYqFGj7Nixl7XcPXv2+KrLVVVV/vlNsLgl3h2imKlUU1Vp9+qq7O6dpkv3XqSqW5VJ89PcEve/7nbyckpXovzv1N5Kmp/mlngOKY9k5ZTOpHfgvxLPYibuwZ3bmX8HaJ6K2iyVFjGrqamxIUOG2MaNG/3zkiVLfCVmTiaEEEI0NmkRM7rkb9myxXsyjhkzxgYNGmSHD+dmHFYIIUT2kxYxgydPntjBgwdt8+bNdubMmdhWIYQQovFJm5gJIYQQTYXETAghRM4jMRNCCJHzSMyEEELkPBIzIYQQOY/ETAghRM4jMUsC02nt2LHDJ0detWqVz0iSCsw9yXyUDEtoiKtXr9qyZcv82Bs2bPCpW+D69es+YwqTNOcbzAizePFiW7BgQf3DlgpMZ3PhwgU7ceJEbMur7Ny50+bOnevjGl9X7m8D95N5RZmNJB8oLy+3hQsX2rx582z37t31SzMdPXrUli5d6s9kaWmpG4W1a9f6ZAdr1qzx75YvX17/rAJlvXfvXj8Ww2+YhigRyo/zwKlTp3x5jqjwvHD8hqY22r9/v8+Wng0w0xHP4qJFi+zIkZeT9ZI3yomypHx5xy9dulRfrpQz24uLi18p3++//97mzJljW7dujW39a1jq5Pjx436/GP70448/xr7JPt70HjcGErMEePhWrFjhM5jwkDFh8urVq1MSGR6mHj16NCh+fD948GArKiryYzOYfPLkyX4TSkpKfAqwW7duxfbOD5gNhtlfuDZWUeBFf/DgQezbN4MRZV7PZGAY+vXr5ys0sM+hQ4di3zQO3EeMcZiGDcHMxbX5ANHn2QtixrJMQWh4xgcOHGizZs2yAQMG+LOIkR03bpy1a9fOJk6c+IqYXb582YYOHerPMfdg5cqVfyU4TJyACDHBOHDvqcRFhflcEdiGxGzkyJEuFlHn8WtMsBnYCMoDMaPSNnz4cC8jnn/ec8qY73r16uUVJMSssLDQWrVq5dsTxYz7NX78eJsxY4bbFEQrEcqUWZawH7wDCGa2Qvk09B43FhKzBM6dO2c9e/a0kydP+mcMGrUeHlgeHkSOhy+sAIBxw3vjQebB69+/v88pxkPMi8b+YY7K7777zidgDlCz6t27tz+oDDBH2Kqrq2Pf5genT5/2MqE2Cqw3RMWAWvr69ev9Acdo8j2zxGzbts3LFOOE8FF7xTgggPwdX7vDkCKUwMSkYc085najwoBBoXYLHJMXim38hvKmxhueeQwmYogHgeHG0GB0mCSbCgbG+t///d99O4aefcK9Yr9wj7MRvP5vvvnGPbMA1xTuCUaT6wSM7LRp0/xvyoY5VZN5pnhilDMgWHgQ8fB+cNww8w+GFqPOO4SQcmzu2YQJE9zQc7/C/ePeMHMQ33G/N23a5Nt5bsgf6yTyHnH+srIy/y3RlEyBZ5soOJQtlSDEmDIM9oQyCdfDO8DzlAx+j3EG3g+e3Xi4p5QR/wMVFN4n7A7vEBUHbA9CH4STSsr9+/c96sTx+J6ISRBRKjc855Q77wF5p5wpb/JMfvkem4iNY//w3HDtnIN09uxZ30b++T3PE/aRPKYTiVkCu3bt8huSOMlluMk8CNRwETTAIGIgMWiIFbVUXv4QOli3bp3fTMqW44bwA1D4vIg8KLz0+ShmGCxerIKCAi/bAGXTtm1bFwZqlZQRlQJeXCYZ5cWhFotoYAwQMgxh/GTVlDP7YBzr6up8G0YW74P9MXS8TLyYhIC4N+QB0cJI8pIGEeL8/IaX+6uvvvL7ipHC0HLPqNC0b9/e7z+/4eXkRcbAsg+GIlvBoHGtDYGBxROgwobQB2HimvkuWfiK6yaC0b17d3/+E20HQkNljvsPPAOdOnXySgPH5LmngoJwcU8QRMqfbfwO8eM+URnq0qWLH4PypqLJu0Y4H8NM3jh/qk0B6YB3nPzjjSaCIISoAdfWt2/f+meFygX3JZm3T7lhT3i++X281wY8z1SeqTRQ8UMosCM0Y1DOfMf7RNnxeyp1nBs7Q+WS+8z7wf0LHjrvAOVLOXPv+cyzwH59+vTx43EM3ieuhXeL+4kHyjvM+Wk64XdcN5VR/ub35INKaTqhQsPzQEVAYvYCCp6XLRFucqiJEqdH0ICbxQ0EbjKGjZrJF1984fsQvvnyyy/9waUmFWotgPFAFPl9vooZcJ1cHzVBKgQIDgYJEQLKhLJBNCh7arFUHjCA1CpbtGjhxi8Yxni4JxjVbt26udGmdk8tGU8EQ4EAcRxCaBwzQDkT+gzLFPHSUltlX+4pYCjiV3/ACPASA8fC4GJsyXOoIWcjiAV5pIKGoaKsKJ9QqyaMSDiRcqMyESoG4dqCmPFuYMyoFPA310ylgGd49uzZfxWKx6jy7Aeo3FHJALxz3g3uFeVNxYB3hOMgCBhJEu1GVGwod+4937N/PAga0Y1kbXZNBc8oFS2gkkY5UkYIAvlHbDt27Ogiw3MYPC6eK57RECJFDDD6lDFlTuSGfajMcdx4CHkjIFx/EDP2oWw5Ju8UZcI9CF4h7xjCy/9UIoDnmHtHnjgGlTmgMslvOT6E+8c+vCfkj3uIgCCGhEuDveNZIsLF5+D9c994h9MJdobrp2IjMXsBBhWjG/9y8HfXrl3rhYYaOy8gUHuibQAQM2qVuNyIH55DbW2t16p4STEU8Q8lIQFeWowKDxe1u0y+lOmAByzUWKnB8VLzklKjCyFCyg2jSW2Oh56XhkoBQkXIBOPL5yAqgfjaOIYOocSI8jIjbJQ95Ylx5sXH6AS4lxgZzg2hJsvLHcIheIEIbjgvRjMYegwElQ/uGQYik202bwJRogwxrNwLyhmRDqEryp4KAeISxBoSxQzDxj1hP57dAM8uZR7ChMB9oLxCuVCmQYjYD2OPJ8Z95V5Qa+ceAAaS54OwJG1CGEjuNd/H30NAQPFeMvnekFdsBu87zztlhCHHe+TaqCxwHVw33weCmAXPDDuBDeb34TkDKn7B3gQQPipdiWLGO8Y9Q0QIJfP8sg14Xik/7BA2DEJkhMoC9yCUL8837afhHUPkSFTksXGcL1RO8PrIH5WbYO9I/B5xAd4rzpNOFGZMgJeUB4yCp3ZCWAkjx4tF7T0YsXAjMQgYBrbzslEr40HiBeSB42bycPKC8pmXmIcYA8E5Onfu7A84Dz4vAA8L32F48gEMIg8+okEoi3LkpSeMx0sFeEdBvHjJMIKUKYaVl41yD2FCDHGAsqeGGkIihDUwArxY3DPKHqPKi8pnXi7uKfeH8uWchDHZRmWFlxUDG4wqxoBjhXYf8kXFA4+Nl5b887tEkc028HCoFWPYqEhw/ZRviCgQ/sZgJsIzzXfUshPhXlJefMf9wYCGdmTAsCGg3Gvg3uB14MnxPPDsUwmkMsfzzr0hj7wnGH2OiweBJ8NxAMHlGSBf9I7DeHHvEJJ4EW5qeJYw8FRsKF/yxvvPtfIMhQprIiHklyzMSHkhkpQDYpgYouP9oXyCnaDsqFRxfipplAvvCjaFv4H9eZ8oL+4Zx+b8IezJc8/zD9w/9kPc8PIod95NvHveA1ZE4d0Gok681+SXd47zIoI8E0QvqNwTuuec6URilgQMIDeem8YNxchSw0LkeLHwKMLLg1HjM54YDwoeAsaDB5UaI7FmHuYQhkLQeIB4ODg+/2NUqN1iXNmf7xHRxHa7XARPANEhNs/1hjZD2hAQGMC48hLhCVF27IvI8DciRplxHMIh8UaXMsWIcE8IxYR2hRDu5XwYSYwLgoax4Z7wHedkP8SKsA4GlgoFRjp4zxhnDHYwBjSw89ISYgPySF6Dx57NUGHiGrlWnjHELHhceEzxbbkBDBPfhWc3Ht4J3g3KM1knEd4L3qHQKYKypRLINs5PpYN7SmSDPHEcKnJUJvGw+cz+vIsIGnBMKi28axhp7BXPA9sQwUxCvrED4Z2n4oDHxDOJCIcIQDw8V9yTZO857wfPJtcaKlfxIFqUZfCGqRhQxggJ7xLbETpEMexDPni+KV/yx7NL2Yb3huceQQr5QazYh2viHeZ9BLxMBDY+GoG9omLHveQ9Q8x47ygLRI3zcOx0IjHLMBgBHtZgMJs7lAcvQAiNZCuII+KKMRKvguFD/NPdTkJFEc8iHyp+UUE8CfGFMH4qUGGkUo5Y5hsSM5FVUBuknSy+PSwbwbOgNkwNWSQHLyGEMtMFxjzbn5V0QXiezhdRvFIiSnhR+WjrJWZCCCFyHomZEEKInEdiJoQQIueRmAkhRDOA9mh6W78LaEQYlxZgrBtDB5L1iG0IegDT07Ixh1RIzIQQIgXoMckQBwwwwzYwnkDPTTqhsC3MK0oHIbrGh0HSbGM/BnnzHWLAZ34ThIFeieH70F0e6OJON3yGUsQPugaOQWoIhIZ88D9DHxiqwt9haASQN64l9AilQwnH5Hu2k5cwKJ080FWfMmA/rptrZggF5+F3XA/XFT8jDOfgGGwP5+eawlRajYHETAghUoCxdQwFYPwXg4AZP4W4ML6UsY4khIexb4xxZEIExsph1DH8jP9iXCmJ8Yp4M/yGAdaIQRiDyhi6Nm3a1E99x7jIP/7xjz7mLExDFeBc8bMKxcMsOIz7YvwXY/EYh8bfHL9Dhw4+zhMhQmAYd4b9R3QYW0lPXcakhbxyvQwCZx+un7FrTOHF2DVgiAqDtrkmBJPxaezHtSOSDBpnG9fLPK3MCEK5ca5kg8bfBomZEEKkAIPImV+RgfwMO2AGGGagwagzUwqeB4PxER2+x1NhUD/j7YCB6iTEA4Hib/Zj4DgD8Jkhg9k78FzCihIYaIQDkeP8wfBzbGZCYawZA5gJ8SG2AY7BoHaGuSC4iCkTOSBidOkPU/JxTPZFgBjbiZiF2UQYMI/4MIsJg6YRRGb7QCAJNSLOeG94Y+SV2T44JqFMBpHjeSGIXC+VAP4mvEiZ4OExcw4iGmVoweuQmAkhRApg+PFSQlgQAWLgPMabWTGAWS7wxjCswD5M0gvMvBFmwUCEwnJHCAXHYYq8IHxMooCwIQTMfMJ5EZUAooIYMtcpAoW3hbAGEAvENn4qMgZKI6KAJ4hnycwkiBm/DzO9kF/ygdcV8o6Ak2eOgWfF1GTkCxAjZv1A3DhmmFkGb41xhog8s8QggAgeYsbgbcZo4pWGsnpXJGZCCJECiBleV5geCg+GMBliFkSINiC8KDwcYHafEIpDzMI8iBh/5ldECAj34ZUhHIga4LUELw3Dj+eUbDJlQnWISCKIFfnAewvgmXFMCBMSI2Z4boQTgwghgnhm5DvMcMPKC3hmhDnx+Mgn3ha/JYwYL2ZBQIPI0z6G94mI4cXivQJTneHJJbYDvi0SMyGESAHsIx4J4TPCakwLhSjwN21AgPeEl4PxxpPBgCMseGB4RcF7Qgho60LMEET2J6xH2xTtTnSyoA0NocA7Q2w4XuK0d7SrIViJ7U60VeEhkheEh2PhFSKKQNsewoaHBwgV3yE2tKshsHiKYV5IZg1BqBA1vMQwhybHphMIAojwccwwATHXxETF5J+/8c44LsJPB5Iwr+brOrBEQWImhBApELwdvCGEJ6yFR8eI+LlEsaN4NezDig6A2CAcwavjt+zHdoQFD4mu6ggGXhEGP3gs4bcIQZTp0xAcwnyIJcJBGDEs/YKXxzFDqJA5UYM3hleIF0q+Qv5pjwurAODhIbL8Bk+TsCuCitByTDwx4LeUC+2CeG54nuSHNjemIUMo+Ry82HcFMQuhUomZEEI0AOExJsEObWaNDZ4X7Wf5RljTDU8WLxYPFU8x9KBsLPByCZUixBIzIYRoAGr+GMrGCovFg3eCB4M3lY/gxdHeRsLjIzTJtsYETxZPEK9TYiaEECInUZhRCCFEzqMOIEIIIXIeiZkQQoicR2ImhBAi55GYCSGEyHkkZkIIIXIeiZkQQoich3Fm9WLG6Gn66SspKSkpKeVSYsA0U465mOGmMVVLOhPzdzFCO9l3+ZJYa4iKQbLv8ikxzxwPT7Lv8ikxHx5T8iT7Ll8SE7/ybvJ/su/zJTEXITNQJPsunxLGnfcz2Xf5lLCz3NPwOczO8jf+b5rBMITluvMVZqwOyxzkM0y9wxQ8+Q6CzVIc+QzTKfFuNtakr9kK0ygxJVW+w7IxVMDyHbwxRCyRtItZeGEaa2XRbIXCbQ5ixsvS2POrZSOIWbK1pPIJZmbn3UxcSiTfwPNsDmLG7PYIWr6DmFFBSURi1khIzPILiVn+IDHLL5KLmdn/B95Sy1+TyxCzAAAAAElFTkSuQmCC)\n",
        "\n",
        "# **Challenges**\n",
        "\n",
        "1. GPT (open source)\n",
        "    1. Limit on Max tokens\n",
        "    2. Rate limiting errors\n",
        "2. Context on full compiled code cannot be fed to the model. So there is likely false positives\n"
      ],
      "metadata": {
        "id": "YPscu6JXlyoy"
      }
    }
  ],
  "metadata": {
    "colab": {
      "provenance": []
    },
    "kernelspec": {
      "display_name": "Python 3",
      "name": "python3"
    },
    "language_info": {
      "name": "python"
    }
  },
  "nbformat": 4,
  "nbformat_minor": 0
}